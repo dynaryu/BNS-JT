{
 "cells": [
  {
   "cell_type": "code",
   "execution_count": 271,
   "metadata": {},
   "outputs": [],
   "source": [
    "from pathlib import Path\n",
    "import pandas as pd\n",
    "import json\n",
    "import networkx as nx\n",
    "import matplotlib.pyplot as plt\n",
    "import pdb\n",
    "import pickle\n",
    "import numpy as np\n",
    "from typing_extensions import Annotated\n",
    "\n",
    "from BNS_JT import model, config, trans, variable, brc, branch, cpm, operation\n",
    "\n",
    "HOME = Path().resolve()"
   ]
  },
  {
   "cell_type": "markdown",
   "metadata": {},
   "source": [
    "# The user input"
   ]
  },
  {
   "cell_type": "code",
   "execution_count": 282,
   "metadata": {},
   "outputs": [],
   "source": [
    "key = 'od1'\n",
    "thres = 5 # if it takes longer than this, we consider the od pair is disconnected"
   ]
  },
  {
   "cell_type": "markdown",
   "metadata": {},
   "source": [
    "# Modelling part"
   ]
  },
  {
   "cell_type": "code",
   "execution_count": 283,
   "metadata": {},
   "outputs": [
    {
     "name": "stdout",
     "output_type": "stream",
     "text": [
      "scenario to be added later\n"
     ]
    }
   ],
   "source": [
    "rnd_state = np.random.RandomState(1)\n",
    "\n",
    "cfg = config.Config(HOME.joinpath('./config.json'))\n",
    "\n",
    "od_pair = cfg.infra['ODs'][key]\n"
   ]
  },
  {
   "cell_type": "code",
   "execution_count": 284,
   "metadata": {},
   "outputs": [],
   "source": [
    "# randomly assign probabilities\n",
    "## Here we assume binary states for each edge, assuming that \n",
    "## connectivity is the most concerned factor for emergency activities.\n",
    "probs_set = {0: {0: 0.05, 1: 0.95},\n",
    "                1: {0: 0.15, 1: 0.85},\n",
    "                2: {0: 0.30, 1: 0.70},\n",
    "                }\n",
    "probs_key = rnd_state.choice(3, size=len(cfg.infra['edges']))\n",
    "\n",
    "# Here, we assume \n",
    "probs = {k: [probs_set[v][0], probs_set[v][1]]for k, v in zip(cfg.infra['edges'].keys(), probs_key)}"
   ]
  },
  {
   "cell_type": "code",
   "execution_count": 285,
   "metadata": {},
   "outputs": [],
   "source": [
    "# variables\n",
    "varis = {}\n",
    "cpms = {}\n",
    "for k, v in cfg.infra['edges'].items():\n",
    "    varis[k] = variable.Variable(name=k, values = [np.inf, 1.0*v['weight']])\n",
    "    cpms[k] = cpm.Cpm(variables = [varis[k]], no_child=1,\n",
    "                        C = np.array([0, 1]).T, p = [probs[k][0], probs[k][1]])"
   ]
  },
  {
   "cell_type": "code",
   "execution_count": 286,
   "metadata": {},
   "outputs": [],
   "source": [
    "comps_st_itc = {k: len(v.values) - 1 for k, v in varis.items()}\n",
    "\n",
    "d_time_itc, _, path_itc = trans.get_time_and_path_given_comps(comps_st_itc, cfg.infra['G'], od_pair, varis)\n",
    "print(d_time_itc)"
   ]
  },
  {
   "cell_type": "code",
   "execution_count": 287,
   "metadata": {},
   "outputs": [
    {
     "name": "stdout",
     "output_type": "stream",
     "text": [
      "893.0\n"
     ]
    }
   ],
   "source": []
  },
  {
   "cell_type": "code",
   "execution_count": 252,
   "metadata": {},
   "outputs": [
    {
     "name": "stdout",
     "output_type": "stream",
     "text": [
      "{'label': '66', 'weight': 480, 'key': '66'}\n"
     ]
    }
   ],
   "source": [
    "print(G.edges[('Wooroloo', '0361')])"
   ]
  },
  {
   "cell_type": "code",
   "execution_count": 253,
   "metadata": {},
   "outputs": [
    {
     "name": "stdout",
     "output_type": "stream",
     "text": [
      "Path (nodes): ['Wooroloo', '0361', 'Merredin']\n",
      "Path (edges): ['66', '67']\n",
      "Total weight: 893\n",
      "\n",
      "Path (nodes): ['Wooroloo', '4815', '4154', '4156', 'Merredin']\n",
      "Path (edges): ['95', '96', '97', '98']\n",
      "Total weight: 1342\n",
      "\n",
      "Path (nodes): ['Wooroloo', '0289', '0288', '0287', '0286', '0285', '0284', '0283', '0282', '0281', '0280', '0279', '0278', '0277', 'Merredin']\n",
      "Path (edges): ['76', '77', '78', '79', '80', '81', '82', '83', '84', '85', '86', '87', '88', '89']\n",
      "Total weight: 1442\n",
      "\n",
      "Path (nodes): ['Wooroloo', '0752', '0753', '0754', '0761', '0762', '0763A', '0765', 'Merredin']\n",
      "Path (edges): ['68', '69', '70', '71', '72', '73', '74', '75']\n",
      "Total weight: 3251\n",
      "\n"
     ]
    }
   ],
   "source": [
    "G = cfg.infra['G']\n",
    "all_paths = nx.all_simple_paths(G, od_pair[0], od_pair[1])\n",
    "\n",
    "valid_paths = []\n",
    "\n",
    "for path in all_paths:\n",
    "    # Calculate the total weight of the path\n",
    "    path_edges = [(u, v) for u, v in zip(path[:-1], path[1:])]\n",
    "    path_weight = sum(G[u][v]['weight'] for u, v in path_edges)\n",
    "    if path_weight < thres * d_time_itc:\n",
    "        # Collect the edge names if they exist, otherwise just use the edge tuple\n",
    "        edge_names = [G[u][v].get('key', (u, v)) for u, v in path_edges]\n",
    "        valid_paths.append((path, edge_names, path_weight))\n",
    "\n",
    "# Sort valid paths by weight\n",
    "valid_paths = sorted(valid_paths, key=lambda x: x[2])\n",
    "\n",
    "# Print the paths with edge names and weights\n",
    "for path, edge_names, weight in valid_paths:\n",
    "    print(f\"Path (nodes): {path}\")\n",
    "    print(f\"Path (edges): {edge_names}\")\n",
    "    print(f\"Total weight: {weight}\\n\")"
   ]
  },
  {
   "cell_type": "code",
   "execution_count": 254,
   "metadata": {},
   "outputs": [
    {
     "name": "stdout",
     "output_type": "stream",
     "text": [
      "Wooroloo_Merredin\n"
     ]
    }
   ],
   "source": [
    "print(name)"
   ]
  },
  {
   "cell_type": "code",
   "execution_count": 263,
   "metadata": {},
   "outputs": [
    {
     "name": "stdout",
     "output_type": "stream",
     "text": [
      "Cpm(variables=['Wooroloo_Merredin_3', '68', '69', '70', '71', '72', '73', '74', '75'], no_child=1, C=[[1 1 1 1 1 1 1 1 1]\n",
      " [0 0 2 2 2 2 2 2 2]\n",
      " [0 1 0 2 2 2 2 2 2]\n",
      " [0 1 1 0 2 2 2 2 2]\n",
      " [0 1 1 1 0 2 2 2 2]\n",
      " [0 1 1 1 1 0 2 2 2]\n",
      " [0 1 1 1 1 1 0 2 2]\n",
      " [0 1 1 1 1 1 1 0 2]\n",
      " [0 1 1 1 1 1 1 1 0]], p=[[1.]\n",
      " [1.]\n",
      " [1.]\n",
      " [1.]\n",
      " [1.]\n",
      " [1.]\n",
      " [1.]\n",
      " [1.]\n",
      " [1.]]\n"
     ]
    }
   ],
   "source": [
    "path_names = []\n",
    "for idx, (path, edge_names, weight) in enumerate(valid_paths):\n",
    "    name = od_pair[0] + '_' + od_pair[1] + '_' + str(idx)\n",
    "    path_names.append(name)\n",
    "\n",
    "    varis[name] = variable.Variable(name=name, values = [np.inf, weight])\n",
    "\n",
    "    n_edge = len(edge_names)\n",
    "\n",
    "    # Event matrix of series system\n",
    "    # Initialize an array of shape (n+1, n+1) filled with 1\n",
    "    Cpath = np.ones((n_edge + 1, n_edge+1), dtype=int)\n",
    "    # Fill the diagonal below the main diagonal with 0\n",
    "    for i in range(1, n_edge + 1):\n",
    "        Cpath[i, 0] = 0\n",
    "        Cpath[i, i] = 0  \n",
    "    # Fill the lower triangular part (excluding the diagonal) with 2\n",
    "    for i in range(1, n_edge + 1):\n",
    "        Cpath[i, i+1:] = 2\n",
    "    ppath = np.array([1.0]*(n_edge+1))\n",
    "\n",
    "    cpms[name] = cpm.Cpm(variables = [varis[name]] + [varis[e] for e in edge_names], no_child=1, C=Cpath, p=ppath)\n",
    "\n",
    "print(cpms[name])\n"
   ]
  },
  {
   "cell_type": "code",
   "execution_count": 267,
   "metadata": {},
   "outputs": [
    {
     "name": "stdout",
     "output_type": "stream",
     "text": [
      "Cpm(variables=['Wooroloo_Merredin_1', '95', '96', '97', '98'], no_child=1, C=[[1 1 1 1 1]\n",
      " [0 0 2 2 2]\n",
      " [0 1 0 2 2]\n",
      " [0 1 1 0 2]\n",
      " [0 1 1 1 0]], p=[[1.]\n",
      " [1.]\n",
      " [1.]\n",
      " [1.]\n",
      " [1.]]\n"
     ]
    }
   ],
   "source": [
    "print(cpms['Wooroloo_Merredin_1'])"
   ]
  },
  {
   "cell_type": "code",
   "execution_count": 256,
   "metadata": {},
   "outputs": [
    {
     "name": "stdout",
     "output_type": "stream",
     "text": [
      "Cpm(variables=['Wooroloo_Merredin', 'Wooroloo_Merredin_0', 'Wooroloo_Merredin_1', 'Wooroloo_Merredin_2', 'Wooroloo_Merredin_3'], no_child=1, C=[[4 1 2 2 2]\n",
      " [3 0 1 2 2]\n",
      " [2 0 0 1 2]\n",
      " [1 0 0 0 1]\n",
      " [0 0 0 0 0]], p=[[1.]\n",
      " [1.]\n",
      " [1.]\n",
      " [1.]\n",
      " [1.]]\n"
     ]
    }
   ],
   "source": [
    "od_name = od_pair[0] + '_' + od_pair[1]\n",
    "vals = [np.inf]\n",
    "for p in path_names:\n",
    "    vals.append(varis[p].values[1])\n",
    "\n",
    "n_path = len(path_names)\n",
    "Csys = np.zeros((n_path+1, n_path+1), dtype=int)\n",
    "for i in range(n_path):\n",
    "    Csys[i, 0] = n_path - i\n",
    "    Csys[i, i+1] = 1\n",
    "    Csys[i, i+2:] = 2\n",
    "psys = np.array([1.0]*(n_path+1))\n",
    "\n",
    "varis[od_name] = variable.Variable(name=od_name, values = vals)\n",
    "cpms[od_name] = cpm.Cpm(variables = [varis[od_name]] + [varis[p] for p in path_names], no_child=1, C=Csys, p=psys)\n",
    "\n",
    "print(cpms[od_name])"
   ]
  },
  {
   "cell_type": "markdown",
   "metadata": {},
   "source": [
    "# Inference"
   ]
  },
  {
   "cell_type": "code",
   "execution_count": 264,
   "metadata": {},
   "outputs": [
    {
     "name": "stdout",
     "output_type": "stream",
     "text": [
      "['66', '67', '68', '69', '70', '71', '72', '73', '74', '75', '76', '77', '78', '79', '80', '81', '82', '83', '84', '85', '86', '87', '88', '89', '95', '96', '97', '98', 'Wooroloo_Merredin_0', 'Wooroloo_Merredin_1', 'Wooroloo_Merredin_2', 'Wooroloo_Merredin_3', 'Wooroloo_Merredin']\n"
     ]
    }
   ],
   "source": [
    "print(vars_inf)"
   ]
  },
  {
   "cell_type": "code",
   "execution_count": 268,
   "metadata": {},
   "outputs": [],
   "source": [
    "VE_ord = list(probs.keys()) + path_names\n",
    "vars_inf = operation.get_inf_vars( cpms, od_name, VE_ord )\n",
    "Mod = operation.variable_elim([cpms[k] for k in vars_inf], [v for v in vars_inf if v!=od_name]) "
   ]
  },
  {
   "cell_type": "code",
   "execution_count": 269,
   "metadata": {},
   "outputs": [
    {
     "name": "stdout",
     "output_type": "stream",
     "text": [
      "Cpm(variables=['Wooroloo_Merredin'], no_child=1, C=[[3]\n",
      " [2]\n",
      " [1]\n",
      " [0]\n",
      " [4]], p=[[0.24503587]\n",
      " [0.01481324]\n",
      " [0.05774588]\n",
      " [0.192405  ]\n",
      " [0.49      ]]\n"
     ]
    }
   ],
   "source": [
    "print(Mod)"
   ]
  }
 ],
 "metadata": {
  "kernelspec": {
   "display_name": "bns",
   "language": "python",
   "name": "python3"
  },
  "language_info": {
   "codemirror_mode": {
    "name": "ipython",
    "version": 3
   },
   "file_extension": ".py",
   "mimetype": "text/x-python",
   "name": "python",
   "nbconvert_exporter": "python",
   "pygments_lexer": "ipython3",
   "version": "3.11.0"
  }
 },
 "nbformat": 4,
 "nbformat_minor": 2
}
