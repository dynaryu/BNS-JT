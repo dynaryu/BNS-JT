{
 "cells": [
  {
   "cell_type": "markdown",
   "metadata": {},
   "source": [
    "# Brainstorming of BRC for multi-state system event"
   ]
  },
  {
   "cell_type": "code",
   "execution_count": 80,
   "metadata": {},
   "outputs": [],
   "source": [
    "import networkx as nx\n",
    "import matplotlib.pyplot as plt\n",
    "from BNS_JT import cpm, variable, operation\n",
    "from networkx.algorithms.flow import shortest_augmenting_path\n",
    "from BNS_JT import brc\n",
    "import numpy as np"
   ]
  },
  {
   "cell_type": "markdown",
   "metadata": {},
   "source": [
    "## Example"
   ]
  },
  {
   "cell_type": "code",
   "execution_count": 88,
   "metadata": {},
   "outputs": [],
   "source": [
    "# Network\n",
    "nodes = {'n1': (0, 0),\n",
    "         'n2': (1, 1),\n",
    "         'n3': (1, -1),\n",
    "         'n4': (2, 0)}\n",
    "\n",
    "edges = {'e1': ['n1', 'n2'],\n",
    "\t     'e2': ['n1', 'n3'],\n",
    "\t     'e3': ['n2', 'n3'],\n",
    "\t     'e4': ['n2', 'n4'],\n",
    "\t     'e5': ['n3', 'n4']}\n",
    "n_arc = len(edges)\n",
    "\n",
    "probs = {'e1': {0: 0.01, 1:0.02, 2: 0.97}, 'e2': {0:0.02, 1:0.04, 2: 0.94}, 'e3': {0:0.03, 1:0.05, 2:0.92},\n",
    "         'e4': {0:0.04, 1:0.07, 2:0.89}, 'e5': {0:0.05, 1:0.08, 2:0.87}}\n",
    "\n",
    "od_pair=('n1','n4')\n",
    "\n",
    "varis = {}\n",
    "for k, v in edges.items():\n",
    "    varis[k] = variable.Variable( name=k, values = [0, 1, 2]) # values: edge flow capacity\n",
    "\n",
    "varis['sys'] = variable.Variable( name='sys', values = [0,1,2,3,4] ) # maximum flow between od_pair \n",
    "#varis['sys'] = variable.Variable( name='sys', values = [0,2,4] ) # with this value setting, carrying over failure rules still has no much impacts.\n",
    "\n",
    "\n",
    "def max_flow(comps_st, target_flow, od_pair, edges, varis): # maximum flow analysis\n",
    "    G = nx.Graph()\n",
    "    for k,x in comps_st.items():\n",
    "        G.add_edge(edges[k][0], edges[k][1], capacity=varis[k].values[x])\n",
    "    G.add_edge(od_pair[1], 'new_t', capacity=target_flow)\n",
    "\n",
    "    f_val, f_dict = nx.maximum_flow(G,od_pair[0], 'new_t', capacity='capacity', flow_func=shortest_augmenting_path)\n",
    "\n",
    "    if f_val >= target_flow:\n",
    "        sys_st = 's'\n",
    "\n",
    "        min_comps_st = {}\n",
    "        for k, x in comps_st.items():\n",
    "            k_flow = max([f_dict[edges[k][0]][edges[k][1]], f_dict[edges[k][1]][edges[k][0]]])\n",
    "            if k_flow > 0: # the edge plays a role in an associated survival rule\n",
    "                index = next((i for i,x in enumerate(varis[k].values) if x >= k_flow), None)\n",
    "                min_comps_st[k] = index\n",
    "\n",
    "    else:\n",
    "        sys_st = 'f'\n",
    "        min_comps_st = None\n",
    "\n",
    "    return f_val, sys_st, min_comps_st\n",
    "\n",
    "sys_fun = lambda comps_st : max_flow(comps_st, 1, od_pair, edges, varis)\n"
   ]
  },
  {
   "cell_type": "code",
   "execution_count": 82,
   "metadata": {},
   "outputs": [
    {
     "data": {
      "image/png": "[encoded data removed]",
      "text/plain": [
       "<Figure size 400x300 with 1 Axes>"
      ]
     },
     "metadata": {},
     "output_type": "display_data"
    }
   ],
   "source": [
    "%matplotlib inline\n",
    "plt.figure(figsize=(4,3))\n",
    "# Draw network\n",
    "G = nx.Graph()\n",
    "for node in nodes:\n",
    "    G.add_node(node, pos=nodes[node])\n",
    "for e, pair in edges.items():\n",
    "    G.add_edge(*pair, label=e)\n",
    "\n",
    "pos = nx.get_node_attributes(G, 'pos')\n",
    "edge_labels=nx.get_edge_attributes(G, 'label')\n",
    "nx.draw(G, pos, with_labels=True)\n",
    "nx.draw_networkx_edge_labels(G, pos, edge_labels=edge_labels)\n",
    "plt.show()"
   ]
  },
  {
   "cell_type": "code",
   "execution_count": 83,
   "metadata": {},
   "outputs": [
    {
     "name": "stdout",
     "output_type": "stream",
     "text": [
      "1 s {'e1': 1, 'e4': 1}\n",
      "1 s {'e2': 1, 'e5': 1}\n",
      "0 f None\n"
     ]
    }
   ],
   "source": [
    "# Check the system function\n",
    "comps_st = {'e1': 2, 'e2': 2, 'e3': 2, 'e4': 2, 'e5': 2}\n",
    "f_val, sys_st, min_comps_st = sys_fun(comps_st)\n",
    "print(f_val, sys_st, min_comps_st)\n",
    "\n",
    "comps_st = {'e1': 0, 'e2': 2, 'e3': 2, 'e4': 2, 'e5': 2}\n",
    "f_val, sys_st, min_comps_st = sys_fun(comps_st)\n",
    "print(f_val, sys_st, min_comps_st)\n",
    "\n",
    "comps_st = {'e1': 0, 'e2': 0, 'e3': 2, 'e4': 2, 'e5': 2}\n",
    "f_val, sys_st, min_comps_st = sys_fun(comps_st)\n",
    "print(f_val, sys_st, min_comps_st)"
   ]
  },
  {
   "cell_type": "markdown",
   "metadata": {},
   "source": [
    "## Multi-state BRC algorithm"
   ]
  },
  {
   "cell_type": "markdown",
   "metadata": {},
   "source": [
    "### Carrying over failure rules"
   ]
  },
  {
   "cell_type": "code",
   "execution_count": 84,
   "metadata": {},
   "outputs": [
    {
     "name": "stdout",
     "output_type": "stream",
     "text": [
      "*** Analysis completed with f_sys runs 8: out_flag = complete ***\n",
      "The # of found non-dominated rules (f, s): 8 (4, 4)\n",
      "Probability of branchs (f, s, u): (2.2363e-03, 9.98e-01, 1.1102e-16)\n",
      "The # of branches (f, s, u), (min, avg) len of rf: 10 (5, 5, 0), (2, 2.50)\n",
      "*** Analysis completed with f_sys runs 19: out_flag = complete ***\n",
      "The # of found non-dominated rules (f, s): 19 (10, 9)\n",
      "Probability of branchs (f, s, u): (9.9066e-03, 9.90e-01, 2.2204e-16)\n",
      "The # of branches (f, s, u), (min, avg) len of rf: 28 (15, 13, 0), (2, 2.60)\n",
      "*** Analysis completed with f_sys runs 12: out_flag = complete ***\n",
      "The # of found non-dominated rules (f, s): 12 (8, 4)\n",
      "Probability of branchs (f, s, u): (1.2145e-01, 8.79e-01, -1.1102e-16)\n",
      "The # of branches (f, s, u), (min, avg) len of rf: 17 (12, 5, 0), (1, 1.75)\n",
      "*** Analysis completed with f_sys runs 5: out_flag = complete ***\n",
      "The # of found non-dominated rules (f, s): 5 (4, 1)\n",
      "Probability of branchs (f, s, u): (2.9399e-01, 7.06e-01, 0.0000e+00)\n",
      "The # of branches (f, s, u), (min, avg) len of rf: 5 (4, 1, 0), (1, 1.00)\n"
     ]
    }
   ],
   "source": [
    "brs, rules, sys_res, monitor = {}, {}, {}, {}\n",
    "rules_old = {'s': [], 'f': []} # failure rules are carried over\n",
    "for i, val in enumerate(varis['sys'].values): \n",
    "    if i > 0: # do not analyse the worst state (as the worst is a failure event of the second worst state.)\n",
    "        sys_fun_ = lambda comps_st : max_flow(comps_st, val, od_pair, edges, varis)\n",
    "        brs_, rules_, sys_res_, monitor_ = brc.run({e: varis[e] for e in edges}, probs, sys_fun_, max_sf=np.inf, max_nb=np.inf, pf_bnd_wr=0.0, rules=rules_old)\n",
    "        brs[i], rules[i], sys_res[i], monitor[i] = brs_, rules_, sys_res_, monitor_\n",
    "        \n",
    "        rules_old = {'s': [], 'f': rules_['f']}\n",
    "    "
   ]
  },
  {
   "cell_type": "markdown",
   "metadata": {},
   "source": [
    "### Vanilla for comparison"
   ]
  },
  {
   "cell_type": "code",
   "execution_count": 85,
   "metadata": {},
   "outputs": [
    {
     "name": "stdout",
     "output_type": "stream",
     "text": [
      "*** Analysis completed with f_sys runs 8: out_flag = complete ***\n",
      "The # of found non-dominated rules (f, s): 8 (4, 4)\n",
      "Probability of branchs (f, s, u): (2.2363e-03, 9.98e-01, 1.1102e-16)\n",
      "The # of branches (f, s, u), (min, avg) len of rf: 10 (5, 5, 0), (2, 2.50)\n",
      "*** Analysis completed with f_sys runs 19: out_flag = complete ***\n",
      "The # of found non-dominated rules (f, s): 19 (10, 9)\n",
      "Probability of branchs (f, s, u): (9.9066e-03, 9.90e-01, 2.2204e-16)\n",
      "The # of branches (f, s, u), (min, avg) len of rf: 28 (15, 13, 0), (2, 2.60)\n",
      "*** Analysis completed with f_sys runs 12: out_flag = complete ***\n",
      "The # of found non-dominated rules (f, s): 12 (8, 4)\n",
      "Probability of branchs (f, s, u): (1.2145e-01, 8.79e-01, -1.1102e-16)\n",
      "The # of branches (f, s, u), (min, avg) len of rf: 17 (12, 5, 0), (1, 1.75)\n",
      "*** Analysis completed with f_sys runs 5: out_flag = complete ***\n",
      "The # of found non-dominated rules (f, s): 5 (4, 1)\n",
      "Probability of branchs (f, s, u): (2.9399e-01, 7.06e-01, 0.0000e+00)\n",
      "The # of branches (f, s, u), (min, avg) len of rf: 5 (4, 1, 0), (1, 1.00)\n"
     ]
    }
   ],
   "source": [
    "brs_c, rules_c, sys_res_c, monitor_c = {}, {}, {}, {} # c stands for comparison\n",
    "\n",
    "for i, val in enumerate(varis['sys'].values): \n",
    "    if i > 0: # do not analyse the worst state (as the worst is a failure event of the second worst state.)\n",
    "        sys_fun_ = lambda comps_st : max_flow(comps_st, val, od_pair, edges, varis)\n",
    "        brs_, rules_, sys_res_, monitor_ = brc.run({e: varis[e] for e in edges}, probs, sys_fun_, max_sf=np.inf, max_nb=np.inf, pf_bnd_wr=0.0)\n",
    "        brs_c[i], rules_c[i], sys_res_c[i], monitor_c[i] = brs_, rules_, sys_res_, monitor_\n",
    "        "
   ]
  },
  {
   "cell_type": "markdown",
   "metadata": {},
   "source": [
    "## BRC results"
   ]
  },
  {
   "cell_type": "code",
   "execution_count": 86,
   "metadata": {},
   "outputs": [
    {
     "name": "stdout",
     "output_type": "stream",
     "text": [
      "Number of total existing events: 243 \n",
      "\n",
      "When failure rules are carried over..\n",
      "Number of total system analyses: [8, 19, 12, 5]\n",
      "Number of total system analyses: 44\n"
     ]
    }
   ],
   "source": [
    "print( f\"Number of total existing events: {3**len(edges)} \\n\" )\n",
    "\n",
    "print('When failure rules are carried over..')\n",
    "print( f\"Number of total system analyses: {[k['no_sf'][-1] for m, k in monitor.items()]}\")\n",
    "print( f\"Number of total system analyses: {sum(k['no_sf'][-1] for m, k in monitor.items())}\" )\n"
   ]
  },
  {
   "cell_type": "code",
   "execution_count": 87,
   "metadata": {},
   "outputs": [
    {
     "name": "stdout",
     "output_type": "stream",
     "text": [
      "When not..\n",
      "Number of total system analyses: [8, 19, 12, 5]\n",
      "Number of total system analyses: 44\n"
     ]
    }
   ],
   "source": [
    "print('When not..')\n",
    "print( f\"Number of total system analyses: {[k['no_sf'][-1] for m, k in monitor_c.items()]}\")\n",
    "print( f\"Number of total system analyses: {sum(k['no_sf'][-1] for m, k in monitor_c.items())}\" )"
   ]
  },
  {
   "cell_type": "markdown",
   "metadata": {},
   "source": [
    "# Conclusions\n",
    "\n",
    "Carrying over failure rules does not have any impact, although some impacts are expected for cases of larger networks.\n",
    "This is because failure rules for preceding states are not minimal, so eventually they need to be reassessed. \n",
    "\n",
    "Still, as the computational cost is linear in the number of system states, this should not be troublesome.\n"
   ]
  }
 ],
 "metadata": {
  "kernelspec": {
   "display_name": "Python 3",
   "language": "python",
   "name": "python3"
  },
  "language_info": {
   "codemirror_mode": {
    "name": "ipython",
    "version": 3
   },
   "file_extension": ".py",
   "mimetype": "text/x-python",
   "name": "python",
   "nbconvert_exporter": "python",
   "pygments_lexer": "ipython3",
   "version": "3.11.0"
  }
 },
 "nbformat": 4,
 "nbformat_minor": 2
}
