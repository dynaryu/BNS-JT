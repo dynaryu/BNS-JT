{
 "cells": [
  {
   "cell_type": "code",
   "execution_count": 14,
   "metadata": {},
   "outputs": [],
   "source": [
    "import networkx as nx\n",
    "import numpy as np\n",
    "from pathlib import Path\n",
    "import copy\n",
    "import pandas as pd\n",
    "import random\n",
    "\n",
    "from BNS_JT import trans, branch, variable, cpm, brc, config\n",
    "\n",
    "HOME = Path.cwd()\n",
    "random.seed(1)"
   ]
  },
  {
   "cell_type": "markdown",
   "metadata": {},
   "source": [
    "# EMA"
   ]
  },
  {
   "cell_type": "markdown",
   "metadata": {},
   "source": [
    "Randomly divide edges into three groups with different failure probabilities for demonstration's sake."
   ]
  },
  {
   "cell_type": "code",
   "execution_count": 15,
   "metadata": {},
   "outputs": [
    {
     "name": "stdout",
     "output_type": "stream",
     "text": [
      "{'e1': {0: 0.06, 1: 0.24, 2: 0.7}, 'e2': {0: 0.06, 1: 0.24, 2: 0.7}, 'e3': {0: 0.06, 1: 0.24, 2: 0.7}, 'e4': {0: 0.06, 1: 0.24, 2: 0.7}, 'e5': {0: 0.01, 1: 0.04, 2: 0.95}, 'e6': {0: 0.01, 1: 0.04, 2: 0.95}, 'e7': {0: 0.01, 1: 0.04, 2: 0.95}, 'e8': {0: 0.01, 1: 0.04, 2: 0.95}, 'e9': {0: 0.01, 1: 0.04, 2: 0.95}, 'e10': {0: 0.01, 1: 0.04, 2: 0.95}, 'e11': {0: 0.01, 1: 0.04, 2: 0.95}, 'e12': {0: 0.03, 1: 0.12, 2: 0.85}, 'e13': {0: 0.06, 1: 0.24, 2: 0.7}, 'e14': {0: 0.06, 1: 0.24, 2: 0.7}, 'e15': {0: 0.01, 1: 0.04, 2: 0.95}, 'e16': {0: 0.06, 1: 0.24, 2: 0.7}, 'e17': {0: 0.06, 1: 0.24, 2: 0.7}, 'e18': {0: 0.01, 1: 0.04, 2: 0.95}, 'e19': {0: 0.03, 1: 0.12, 2: 0.85}, 'e20': {0: 0.01, 1: 0.04, 2: 0.95}, 'e21': {0: 0.01, 1: 0.04, 2: 0.95}, 'e22': {0: 0.01, 1: 0.04, 2: 0.95}, 'e23': {0: 0.01, 1: 0.04, 2: 0.95}, 'e24': {0: 0.03, 1: 0.12, 2: 0.85}, 'e25': {0: 0.03, 1: 0.12, 2: 0.85}, 'e26': {0: 0.03, 1: 0.12, 2: 0.85}, 'e27': {0: 0.06, 1: 0.24, 2: 0.7}, 'e28': {0: 0.06, 1: 0.24, 2: 0.7}, 'e29': {0: 0.03, 1: 0.12, 2: 0.85}, 'e30': {0: 0.06, 1: 0.24, 2: 0.7}, 'e31': {0: 0.03, 1: 0.12, 2: 0.85}, 'e32': {0: 0.03, 1: 0.12, 2: 0.85}, 'e33': {0: 0.06, 1: 0.24, 2: 0.7}, 'e34': {0: 0.01, 1: 0.04, 2: 0.95}, 'e35': {0: 0.06, 1: 0.24, 2: 0.7}, 'e36': {0: 0.03, 1: 0.12, 2: 0.85}, 'e37': {0: 0.01, 1: 0.04, 2: 0.95}, 'e38': {0: 0.03, 1: 0.12, 2: 0.85}, 'e39': {0: 0.03, 1: 0.12, 2: 0.85}, 'e40': {0: 0.01, 1: 0.04, 2: 0.95}, 'e41': {0: 0.06, 1: 0.24, 2: 0.7}, 'e42': {0: 0.01, 1: 0.04, 2: 0.95}, 'e43': {0: 0.03, 1: 0.12, 2: 0.85}, 'e44': {0: 0.03, 1: 0.12, 2: 0.85}, 'e45': {0: 0.03, 1: 0.12, 2: 0.85}, 'e46': {0: 0.01, 1: 0.04, 2: 0.95}, 'e47': {0: 0.01, 1: 0.04, 2: 0.95}, 'e48': {0: 0.03, 1: 0.12, 2: 0.85}, 'e49': {0: 0.06, 1: 0.24, 2: 0.7}, 'e50': {0: 0.06, 1: 0.24, 2: 0.7}, 'e51': {0: 0.01, 1: 0.04, 2: 0.95}, 'e52': {0: 0.01, 1: 0.04, 2: 0.95}, 'e53': {0: 0.01, 1: 0.04, 2: 0.95}, 'e54': {0: 0.03, 1: 0.12, 2: 0.85}, 'e55': {0: 0.06, 1: 0.24, 2: 0.7}, 'e56': {0: 0.06, 1: 0.24, 2: 0.7}, 'e57': {0: 0.03, 1: 0.12, 2: 0.85}, 'e58': {0: 0.06, 1: 0.24, 2: 0.7}, 'e59': {0: 0.03, 1: 0.12, 2: 0.85}, 'e60': {0: 0.01, 1: 0.04, 2: 0.95}, 'e61': {0: 0.06, 1: 0.24, 2: 0.7}, 'e62': {0: 0.03, 1: 0.12, 2: 0.85}, 'e63': {0: 0.06, 1: 0.24, 2: 0.7}, 'e64': {0: 0.06, 1: 0.24, 2: 0.7}, 'e65': {0: 0.03, 1: 0.12, 2: 0.85}, 'e66': {0: 0.01, 1: 0.04, 2: 0.95}, 'e67': {0: 0.03, 1: 0.12, 2: 0.85}, 'e68': {0: 0.06, 1: 0.24, 2: 0.7}, 'e69': {0: 0.03, 1: 0.12, 2: 0.85}, 'e70': {0: 0.06, 1: 0.24, 2: 0.7}, 'e71': {0: 0.03, 1: 0.12, 2: 0.85}, 'e72': {0: 0.03, 1: 0.12, 2: 0.85}, 'e73': {0: 0.01, 1: 0.04, 2: 0.95}, 'e74': {0: 0.03, 1: 0.12, 2: 0.85}, 'e75': {0: 0.01, 1: 0.04, 2: 0.95}, 'e76': {0: 0.06, 1: 0.24, 2: 0.7}, 'e77': {0: 0.03, 1: 0.12, 2: 0.85}, 'e78': {0: 0.06, 1: 0.24, 2: 0.7}, 'e79': {0: 0.01, 1: 0.04, 2: 0.95}, 'e80': {0: 0.01, 1: 0.04, 2: 0.95}, 'e81': {0: 0.01, 1: 0.04, 2: 0.95}, 'e82': {0: 0.03, 1: 0.12, 2: 0.85}, 'e83': {0: 0.03, 1: 0.12, 2: 0.85}, 'e84': {0: 0.06, 1: 0.24, 2: 0.7}, 'e85': {0: 0.03, 1: 0.12, 2: 0.85}, 'e86': {0: 0.03, 1: 0.12, 2: 0.85}, 'e87': {0: 0.03, 1: 0.12, 2: 0.85}, 'e88': {0: 0.06, 1: 0.24, 2: 0.7}, 'e89': {0: 0.03, 1: 0.12, 2: 0.85}, 'e90': {0: 0.06, 1: 0.24, 2: 0.7}, 'e91': {0: 0.01, 1: 0.04, 2: 0.95}, 'e92': {0: 0.01, 1: 0.04, 2: 0.95}, 'e93': {0: 0.06, 1: 0.24, 2: 0.7}, 'e94': {0: 0.03, 1: 0.12, 2: 0.85}, 'e95': {0: 0.01, 1: 0.04, 2: 0.95}, 'e96': {0: 0.06, 1: 0.24, 2: 0.7}, 'e97': {0: 0.03, 1: 0.12, 2: 0.85}, 'e98': {0: 0.06, 1: 0.24, 2: 0.7}, 'e99': {0: 0.06, 1: 0.24, 2: 0.7}, 'e100': {0: 0.01, 1: 0.04, 2: 0.95}, 'e101': {0: 0.06, 1: 0.24, 2: 0.7}, 'e102': {0: 0.03, 1: 0.12, 2: 0.85}, 'e103': {0: 0.06, 1: 0.24, 2: 0.7}, 'e104': {0: 0.01, 1: 0.04, 2: 0.95}, 'e105': {0: 0.01, 1: 0.04, 2: 0.95}, 'e106': {0: 0.01, 1: 0.04, 2: 0.95}, 'e107': {0: 0.06, 1: 0.24, 2: 0.7}, 'e108': {0: 0.01, 1: 0.04, 2: 0.95}, 'e109': {0: 0.01, 1: 0.04, 2: 0.95}, 'e110': {0: 0.06, 1: 0.24, 2: 0.7}, 'e111': {0: 0.03, 1: 0.12, 2: 0.85}, 'e112': {0: 0.01, 1: 0.04, 2: 0.95}, 'e113': {0: 0.01, 1: 0.04, 2: 0.95}, 'e114': {0: 0.01, 1: 0.04, 2: 0.95}, 'e115': {0: 0.06, 1: 0.24, 2: 0.7}, 'e116': {0: 0.01, 1: 0.04, 2: 0.95}, 'e117': {0: 0.03, 1: 0.12, 2: 0.85}, 'e118': {0: 0.03, 1: 0.12, 2: 0.85}, 'e119': {0: 0.03, 1: 0.12, 2: 0.85}, 'e120': {0: 0.06, 1: 0.24, 2: 0.7}, 'e121': {0: 0.06, 1: 0.24, 2: 0.7}, 'e122': {0: 0.03, 1: 0.12, 2: 0.85}, 'e123': {0: 0.06, 1: 0.24, 2: 0.7}, 'e124': {0: 0.06, 1: 0.24, 2: 0.7}, 'e125': {0: 0.03, 1: 0.12, 2: 0.85}, 'e126': {0: 0.03, 1: 0.12, 2: 0.85}, 'e127': {0: 0.03, 1: 0.12, 2: 0.85}, 'e128': {0: 0.01, 1: 0.04, 2: 0.95}, 'e129': {0: 0.06, 1: 0.24, 2: 0.7}}\n"
     ]
    }
   ],
   "source": [
    "cfg = config.Config('C:/Users/jb622s/git/BNS-JT/BNS_JT/demos/ema/config.json')\n",
    "st_br_to_cs = {'f':0, 's':1, 'u': 2}\n",
    "\n",
    "n_edge = len(cfg.infra['edges'])\n",
    "\n",
    "integers = list(range(n_edge))\n",
    "random.shuffle(integers)\n",
    "group_size = len(integers) // 3\n",
    "\n",
    "prob_groups = [sorted(integers[:group_size]), sorted(integers[group_size:2*group_size]), sorted(integers[2*group_size:])]\n",
    "probs_setting = [{0:0.01, 1: 0.04, 2: 0.95}, {0:0.03, 1: 0.12, 2: 0.85}, {0:0.06, 1: 0.24, 2: 0.70}]\n",
    "\n",
    "probs = {}\n",
    "for i in range(n_edge):\n",
    "    g_idx = next(index for index, group in enumerate(prob_groups) if i in group)\n",
    "    probs['e'+str(i+1)] = probs_setting[g_idx]\n",
    "\n",
    "print(probs)"
   ]
  },
  {
   "cell_type": "code",
   "execution_count": 16,
   "metadata": {},
   "outputs": [
    {
     "name": "stdout",
     "output_type": "stream",
     "text": [
      "{'e1': {'origin': 'n1', 'destination': 'n3', 'link_capacity': None, 'weight': 0.1161234007510975}, 'e2': {'origin': 'n1', 'destination': 'n7', 'link_capacity': None, 'weight': 0.1166500015002143}, 'e3': {'origin': 'n1', 'destination': 'n9', 'link_capacity': None, 'weight': 0.14076883621739575}, 'e4': {'origin': 'n2', 'destination': 'n3', 'link_capacity': None, 'weight': 0.04063165319058527}, 'e5': {'origin': 'n3', 'destination': 'n6', 'link_capacity': None, 'weight': 0.06334335846006278}, 'e6': {'origin': 'n3', 'destination': 'n7', 'link_capacity': None, 'weight': 0.0828644294736892}, 'e7': {'origin': 'n4', 'destination': 'n6', 'link_capacity': None, 'weight': 0.0400481841411069}, 'e8': {'origin': 'n4', 'destination': 'n8', 'link_capacity': None, 'weight': 0.0471304521514488}, 'e9': {'origin': 'n5', 'destination': 'n10', 'link_capacity': None, 'weight': 0.0755459597397504}, 'e10': {'origin': 'n5', 'destination': 'n11', 'link_capacity': None, 'weight': 0.08307627628270292}, 'e11': {'origin': 'n6', 'destination': 'n8', 'link_capacity': None, 'weight': 0.024088764289601924}, 'e12': {'origin': 'n6', 'destination': 'n13', 'link_capacity': None, 'weight': 0.11246870749235095}, 'e13': {'origin': 'n6', 'destination': 'n17', 'link_capacity': None, 'weight': 0.11701032161736842}, 'e14': {'origin': 'n7', 'destination': 'n9', 'link_capacity': None, 'weight': 0.037155706156659134}, 'e15': {'origin': 'n7', 'destination': 'n13', 'link_capacity': None, 'weight': 0.07850187985010296}, 'e16': {'origin': 'n8', 'destination': 'n11', 'link_capacity': None, 'weight': 0.05658829522083162}, 'e17': {'origin': 'n8', 'destination': 'n16', 'link_capacity': None, 'weight': 0.10588064553071065}, 'e18': {'origin': 'n9', 'destination': 'n12', 'link_capacity': None, 'weight': 0.04827883558040735}, 'e19': {'origin': 'n9', 'destination': 'n13', 'link_capacity': None, 'weight': 0.05195836641004028}, 'e20': {'origin': 'n10', 'destination': 'n11', 'link_capacity': None, 'weight': 0.018863356753239902}, 'e21': {'origin': 'n10', 'destination': 'n18', 'link_capacity': None, 'weight': 0.09317628288894125}, 'e22': {'origin': 'n10', 'destination': 'n20', 'link_capacity': None, 'weight': 0.09373783428264172}, 'e23': {'origin': 'n11', 'destination': 'n19', 'link_capacity': None, 'weight': 0.09461607866002478}, 'e24': {'origin': 'n13', 'destination': 'n14', 'link_capacity': None, 'weight': 0.025156072447820605}, 'e25': {'origin': 'n13', 'destination': 'n15', 'link_capacity': None, 'weight': 0.06947611556499107}, 'e26': {'origin': 'n14', 'destination': 'n17', 'link_capacity': None, 'weight': 0.04847019844192922}, 'e27': {'origin': 'n14', 'destination': 'n22', 'link_capacity': None, 'weight': 0.09274537397088871}, 'e28': {'origin': 'n16', 'destination': 'n17', 'link_capacity': None, 'weight': 0.012556000000000012}, 'e29': {'origin': 'n16', 'destination': 'n19', 'link_capacity': None, 'weight': 0.0311096368509824}, 'e30': {'origin': 'n16', 'destination': 'n22', 'link_capacity': None, 'weight': 0.07646796569806208}, 'e31': {'origin': 'n17', 'destination': 'n22', 'link_capacity': None, 'weight': 0.07384589994034876}, 'e32': {'origin': 'n18', 'destination': 'n19', 'link_capacity': None, 'weight': 0.01600582225316774}, 'e33': {'origin': 'n18', 'destination': 'n21', 'link_capacity': None, 'weight': 0.03613943452795019}, 'e34': {'origin': 'n19', 'destination': 'n22', 'link_capacity': None, 'weight': 0.08105439988674275}, 'e35': {'origin': 'n20', 'destination': 'n21', 'link_capacity': None, 'weight': 0.13195746307428013}, 'e36': {'origin': 'n20', 'destination': 'n30', 'link_capacity': None, 'weight': 0.10336948712265139}, 'e37': {'origin': 'n20', 'destination': 'n58', 'link_capacity': None, 'weight': 0.10046880340682872}, 'e38': {'origin': 'n21', 'destination': 'n22', 'link_capacity': None, 'weight': 0.08470703898142112}, 'e39': {'origin': 'n21', 'destination': 'n23', 'link_capacity': None, 'weight': 0.03654660402828145}, 'e40': {'origin': 'n22', 'destination': 'n23', 'link_capacity': None, 'weight': 0.08943515937817743}, 'e41': {'origin': 'n22', 'destination': 'n25', 'link_capacity': None, 'weight': 0.07015875251171447}, 'e42': {'origin': 'n22', 'destination': 'n28', 'link_capacity': None, 'weight': 0.08067584080132045}, 'e43': {'origin': 'n22', 'destination': 'n29', 'link_capacity': None, 'weight': 0.06323993467738562}, 'e44': {'origin': 'n22', 'destination': 'n40', 'link_capacity': None, 'weight': 0.11485824700037871}, 'e45': {'origin': 'n23', 'destination': 'n24', 'link_capacity': None, 'weight': 0.01583394057081185}, 'e46': {'origin': 'n23', 'destination': 'n31', 'link_capacity': None, 'weight': 0.1385031593899576}, 'e47': {'origin': 'n24', 'destination': 'n25', 'link_capacity': None, 'weight': 0.020315723590362218}, 'e48': {'origin': 'n24', 'destination': 'n26', 'link_capacity': None, 'weight': 0.013399552604471555}, 'e49': {'origin': 'n24', 'destination': 'n33', 'link_capacity': None, 'weight': 0.09926389575268542}, 'e50': {'origin': 'n25', 'destination': 'n26', 'link_capacity': None, 'weight': 0.015694999999999994}, 'e51': {'origin': 'n26', 'destination': 'n27', 'link_capacity': None, 'weight': 0.022195374765928144}, 'e52': {'origin': 'n26', 'destination': 'n28', 'link_capacity': None, 'weight': 0.014870674833375905}, 'e53': {'origin': 'n27', 'destination': 'n28', 'link_capacity': None, 'weight': 0.025458333979268964}, 'e54': {'origin': 'n27', 'destination': 'n33', 'link_capacity': None, 'weight': 0.08923913642007075}, 'e55': {'origin': 'n27', 'destination': 'n35', 'link_capacity': None, 'weight': 0.1368766580100493}, 'e56': {'origin': 'n28', 'destination': 'n37', 'link_capacity': None, 'weight': 0.061600203189599904}, 'e57': {'origin': 'n29', 'destination': 'n41', 'link_capacity': None, 'weight': 0.03882728567644147}, 'e58': {'origin': 'n29', 'destination': 'n49', 'link_capacity': None, 'weight': 0.24397580684362946}, 'e59': {'origin': 'n30', 'destination': 'n31', 'link_capacity': None, 'weight': 0.020636175469306323}, 'e60': {'origin': 'n30', 'destination': 'n60', 'link_capacity': None, 'weight': 0.11254584595621468}, 'e61': {'origin': 'n31', 'destination': 'n32', 'link_capacity': None, 'weight': 0.03166774897273253}, 'e62': {'origin': 'n31', 'destination': 'n60', 'link_capacity': None, 'weight': 0.11002256005020061}, 'e63': {'origin': 'n32', 'destination': 'n33', 'link_capacity': None, 'weight': 0.04935475209136401}, 'e64': {'origin': 'n32', 'destination': 'n34', 'link_capacity': None, 'weight': 0.016243375572829667}, 'e65': {'origin': 'n32', 'destination': 'n60', 'link_capacity': None, 'weight': 0.09300455679696558}, 'e66': {'origin': 'n33', 'destination': 'n34', 'link_capacity': None, 'weight': 0.04918835699634618}, 'e67': {'origin': 'n34', 'destination': 'n35', 'link_capacity': None, 'weight': 0.07816674569789896}, 'e68': {'origin': 'n34', 'destination': 'n60', 'link_capacity': None, 'weight': 0.09383050657968335}, 'e69': {'origin': 'n35', 'destination': 'n36', 'link_capacity': None, 'weight': 0.04585977745257821}, 'e70': {'origin': 'n35', 'destination': 'n71', 'link_capacity': None, 'weight': 0.024516373732670987}, 'e71': {'origin': 'n36', 'destination': 'n43', 'link_capacity': None, 'weight': 0.06794697436236584}, 'e72': {'origin': 'n36', 'destination': 'n44', 'link_capacity': None, 'weight': 0.06676783376746614}, 'e73': {'origin': 'n36', 'destination': 'n71', 'link_capacity': None, 'weight': 0.05007087769352563}, 'e74': {'origin': 'n37', 'destination': 'n38', 'link_capacity': None, 'weight': 0.02118625660658345}, 'e75': {'origin': 'n37', 'destination': 'n42', 'link_capacity': None, 'weight': 0.0592358755147588}, 'e76': {'origin': 'n38', 'destination': 'n39', 'link_capacity': None, 'weight': 0.023019000000000032}, 'e77': {'origin': 'n38', 'destination': 'n42', 'link_capacity': None, 'weight': 0.05735730719794991}, 'e78': {'origin': 'n39', 'destination': 'n40', 'link_capacity': None, 'weight': 0.017787999999999967}, 'e79': {'origin': 'n39', 'destination': 'n48', 'link_capacity': None, 'weight': 0.18883184482496587}, 'e80': {'origin': 'n40', 'destination': 'n41', 'link_capacity': None, 'weight': 0.02076890533947327}, 'e81': {'origin': 'n40', 'destination': 'n48', 'link_capacity': None, 'weight': 0.18739718927454593}, 'e82': {'origin': 'n41', 'destination': 'n49', 'link_capacity': None, 'weight': 0.20944542615679151}, 'e83': {'origin': 'n42', 'destination': 'n43', 'link_capacity': None, 'weight': 0.04885309559280762}, 'e84': {'origin': 'n42', 'destination': 'n45', 'link_capacity': None, 'weight': 0.05608309838980012}, 'e85': {'origin': 'n43', 'destination': 'n44', 'link_capacity': None, 'weight': 0.026241560948236292}, 'e86': {'origin': 'n43', 'destination': 'n45', 'link_capacity': None, 'weight': 0.03202853327893735}, 'e87': {'origin': 'n44', 'destination': 'n46', 'link_capacity': None, 'weight': 0.025155781283832203}, 'e88': {'origin': 'n44', 'destination': 'n54', 'link_capacity': None, 'weight': 0.11840117619770506}, 'e89': {'origin': 'n45', 'destination': 'n46', 'link_capacity': None, 'weight': 0.01627689101149231}, 'e90': {'origin': 'n45', 'destination': 'n47', 'link_capacity': None, 'weight': 0.02487016192146728}, 'e91': {'origin': 'n46', 'destination': 'n47', 'link_capacity': None, 'weight': 0.021772241616333413}, 'e92': {'origin': 'n46', 'destination': 'n54', 'link_capacity': None, 'weight': 0.11856793136847754}, 'e93': {'origin': 'n47', 'destination': 'n48', 'link_capacity': None, 'weight': 0.105472268435831}, 'e94': {'origin': 'n47', 'destination': 'n74', 'link_capacity': None, 'weight': 0.04685174073607084}, 'e95': {'origin': 'n48', 'destination': 'n49', 'link_capacity': None, 'weight': 0.1601457492067772}, 'e96': {'origin': 'n48', 'destination': 'n51', 'link_capacity': None, 'weight': 0.1595980828111667}, 'e97': {'origin': 'n48', 'destination': 'n52', 'link_capacity': None, 'weight': 0.16419247643238713}, 'e98': {'origin': 'n48', 'destination': 'n53', 'link_capacity': None, 'weight': 0.1473230586771806}, 'e99': {'origin': 'n48', 'destination': 'n54', 'link_capacity': None, 'weight': 0.15332542173103583}, 'e100': {'origin': 'n48', 'destination': 'n74', 'link_capacity': None, 'weight': 0.059263716024225116}, 'e101': {'origin': 'n49', 'destination': 'n50', 'link_capacity': None, 'weight': 0.15441704075004162}, 'e102': {'origin': 'n49', 'destination': 'n73', 'link_capacity': None, 'weight': 0.0857856615175288}, 'e103': {'origin': 'n50', 'destination': 'n51', 'link_capacity': None, 'weight': 0.08050517707576325}, 'e104': {'origin': 'n50', 'destination': 'n73', 'link_capacity': None, 'weight': 0.09535963758320393}, 'e105': {'origin': 'n51', 'destination': 'n52', 'link_capacity': None, 'weight': 0.1314256527775305}, 'e106': {'origin': 'n52', 'destination': 'n53', 'link_capacity': None, 'weight': 0.08455130528265074}, 'e107': {'origin': 'n53', 'destination': 'n54', 'link_capacity': None, 'weight': 0.1524119169389323}, 'e108': {'origin': 'n55', 'destination': 'n57', 'link_capacity': None, 'weight': 0.07916931956256791}, 'e109': {'origin': 'n56', 'destination': 'n57', 'link_capacity': None, 'weight': 0.09902618908652398}, 'e110': {'origin': 'n57', 'destination': 'n58', 'link_capacity': None, 'weight': 0.0936443998806122}, 'e111': {'origin': 'n57', 'destination': 'n59', 'link_capacity': None, 'weight': 0.10858014084076333}, 'e112': {'origin': 'n58', 'destination': 'n59', 'link_capacity': None, 'weight': 0.07768875013797043}, 'e113': {'origin': 'n59', 'destination': 'n60', 'link_capacity': None, 'weight': 0.10136390589356745}, 'e114': {'origin': 'n59', 'destination': 'n72', 'link_capacity': None, 'weight': 0.031477483651016304}, 'e115': {'origin': 'n60', 'destination': 'n61', 'link_capacity': None, 'weight': 0.20889091182241507}, 'e116': {'origin': 'n60', 'destination': 'n63', 'link_capacity': None, 'weight': 0.16011591059292016}, 'e117': {'origin': 'n60', 'destination': 'n65', 'link_capacity': None, 'weight': 0.17378469178267686}, 'e118': {'origin': 'n60', 'destination': 'n67', 'link_capacity': None, 'weight': 0.12516215442377143}, 'e119': {'origin': 'n60', 'destination': 'n69', 'link_capacity': None, 'weight': 0.12324074547405175}, 'e120': {'origin': 'n60', 'destination': 'n71', 'link_capacity': None, 'weight': 0.13291186985743597}, 'e121': {'origin': 'n60', 'destination': 'n72', 'link_capacity': None, 'weight': 0.0702979689109152}, 'e122': {'origin': 'n62', 'destination': 'n63', 'link_capacity': None, 'weight': 0.027384501766510184}, 'e123': {'origin': 'n63', 'destination': 'n65', 'link_capacity': None, 'weight': 0.01886302396223893}, 'e124': {'origin': 'n64', 'destination': 'n65', 'link_capacity': None, 'weight': 0.02530742707190915}, 'e125': {'origin': 'n65', 'destination': 'n66', 'link_capacity': None, 'weight': 0.055217659068453814}, 'e126': {'origin': 'n67', 'destination': 'n68', 'link_capacity': None, 'weight': 0.027919980462027528}, 'e127': {'origin': 'n67', 'destination': 'n69', 'link_capacity': None, 'weight': 0.098377245788851}, 'e128': {'origin': 'n69', 'destination': 'n70', 'link_capacity': None, 'weight': 0.044489982389297474}, 'e129': {'origin': 'n69', 'destination': 'n71', 'link_capacity': None, 'weight': 0.07342956087298905}}\n",
      "129\n"
     ]
    }
   ],
   "source": [
    "print(cfg.infra['edges'])\n",
    "print(n_edge)\n",
    "\n",
    "G = nx.Graph()\n",
    "for e, v in cfg.infra['edges'].items():\n",
    "    G.add_edge(v['origin'], v['destination'], label=e, weight=v['weight'])"
   ]
  },
  {
   "cell_type": "code",
   "execution_count": 17,
   "metadata": {},
   "outputs": [],
   "source": [
    "varis = {}\n",
    "cpms = {}\n",
    "for k in cfg.infra['edges'].keys():\n",
    "    varis[k] = variable.Variable(name=k, values = cfg.scenarios['scenarios']['s1'][k])\n",
    "    cpms[k] = cpm.Cpm(variables = [varis[k]], no_child=1,\n",
    "                        C = np.array([0, 1, 2]).T, p = [probs[k][0], probs[k][1], probs[k][2]])\n",
    "\n",
    "thres = 2\n",
    "st_br_to_cs = {'f': 0, 's': 1, 'u': 2}\n",
    "\n",
    "#csys_by_od, varis_by_od = {}, {}\n",
    "# branches by od_pair\n",
    "#for k, od_pair in cfg.infra['ODs'].items():\n",
    "comps_st_itc = {k: len(v.values) - 1 for k, v in varis.items()}\n",
    "#od_pair = ('n1', 'n14')\n",
    "od_pair = ('n1','n53')\n",
    "d_time_itc, path_itc, path_itc_e = trans.get_time_and_path_given_comps(comps_st_itc, G, od_pair, varis)\n",
    "\n",
    "# system function\n",
    "sys_fun = trans.sys_fun_wrap(G, od_pair, varis=varis, thres=thres * d_time_itc)"
   ]
  },
  {
   "cell_type": "code",
   "execution_count": 18,
   "metadata": {},
   "outputs": [
    {
     "name": "stdout",
     "output_type": "stream",
     "text": [
      "[System function runs 25]..\n",
      "The # of found non-dominated rules (f, s): 20 (0, 20)\n",
      "Probability of branchs (f, s, u): (0.0000e+00, 7.23e-01, 2.7669e-01)\n",
      "The # of branches (f, s, u), (min, avg) len of rf: 953 (0, 171, 782), (0, 0.00)\n",
      "Elapsed seconds (average per round): 1.11e+01 (4.44e-01)\n",
      "[System function runs 50]..\n",
      "The # of found non-dominated rules (f, s): 38 (0, 38)\n",
      "Probability of branchs (f, s, u): (0.0000e+00, 8.26e-01, 1.7393e-01)\n",
      "The # of branches (f, s, u), (min, avg) len of rf: 3689 (0, 784, 2905), (0, 0.00)\n",
      "Elapsed seconds (average per round): 7.65e+01 (1.53e+00)\n",
      "\n",
      "*Final decomposition is completed with 2173 branches (originally 3689 branches).\n",
      "\n",
      "***Analysis completed with f_sys runs 50: out_flag = max_sf***\n",
      "The # of found non-dominated rules (f, s): 38 (0, 38)\n",
      "Probability of branchs (f, s, u): (0.0000e+00, 8.28e-01, 1.7244e-01)\n",
      "The # of branches (f, s, u), (min, avg) len of rf: 2173 (0, 484, 1689), (0, 0.00)\n",
      "Elapsed seconds (average per round): 8.98e+01 (1.76e+00)\n"
     ]
    }
   ],
   "source": [
    "brs, rules, sys_res, monitor = brc.run(varis, probs, sys_fun, max_sf=50, display_freq=25)"
   ]
  },
  {
   "cell_type": "code",
   "execution_count": 19,
   "metadata": {},
   "outputs": [
    {
     "name": "stdout",
     "output_type": "stream",
     "text": [
      "Survival rules: [{'e3': 2, 'e19': 2, 'e24': 1, 'e27': 2, 'e44': 2, 'e81': 2, 'e98': 2}, {'e3': 2, 'e19': 2, 'e24': 2, 'e26': 2, 'e31': 2, 'e42': 2, 'e56': 2, 'e75': 2, 'e84': 2, 'e89': 2, 'e92': 2, 'e107': 2}, {'e3': 2, 'e19': 2, 'e24': 2, 'e27': 2, 'e44': 2, 'e81': 2, 'e97': 2, 'e106': 2}, {'e1': 2, 'e5': 2, 'e13': 2, 'e31': 2, 'e42': 2, 'e56': 2, 'e75': 2, 'e84': 2, 'e89': 2, 'e92': 2, 'e107': 2}, {'e2': 2, 'e15': 2, 'e24': 2, 'e27': 2, 'e44': 2, 'e81': 2, 'e97': 2, 'e106': 2}, {'e3': 2, 'e19': 2, 'e24': 2, 'e26': 2, 'e31': 2, 'e44': 2, 'e81': 2, 'e97': 2, 'e106': 2}, {'e3': 2, 'e19': 2, 'e24': 2, 'e26': 1, 'e31': 2, 'e44': 2, 'e81': 2, 'e98': 2}, {'e3': 2, 'e19': 2, 'e24': 1, 'e26': 2, 'e31': 2, 'e44': 2, 'e81': 2, 'e98': 2}, {'e3': 2, 'e19': 2, 'e24': 2, 'e26': 2, 'e28': 1, 'e30': 2, 'e44': 2, 'e81': 2, 'e98': 2}, {'e3': 1, 'e19': 2, 'e24': 2, 'e27': 2, 'e44': 2, 'e81': 2, 'e98': 2}, {'e2': 2, 'e6': 2, 'e5': 2, 'e13': 2, 'e31': 2, 'e44': 2, 'e81': 2, 'e98': 2}, {'e2': 1, 'e15': 2, 'e24': 2, 'e26': 2, 'e31': 2, 'e44': 2, 'e81': 2, 'e98': 2}, {'e2': 2, 'e15': 2, 'e24': 2, 'e27': 2, 'e43': 2, 'e57': 2, 'e80': 2, 'e81': 2, 'e98': 2}, {'e3': 2, 'e19': 2, 'e24': 2, 'e26': 2, 'e31': 2, 'e43': 2, 'e57': 2, 'e80': 2, 'e81': 2, 'e98': 2}, {'e3': 2, 'e19': 2, 'e24': 2, 'e26': 2, 'e28': 2, 'e29': 2, 'e34': 2, 'e44': 2, 'e81': 2, 'e98': 2}, {'e3': 2, 'e19': 2, 'e24': 2, 'e27': 2, 'e44': 2, 'e78': 2, 'e76': 2, 'e77': 2, 'e84': 2, 'e89': 2, 'e92': 2, 'e107': 2}, {'e3': 2, 'e19': 2, 'e24': 1, 'e27': 2, 'e42': 2, 'e56': 2, 'e75': 2, 'e84': 2, 'e89': 2, 'e92': 2, 'e107': 2}, {'e1': 2, 'e5': 2, 'e11': 2, 'e17': 2, 'e30': 2, 'e44': 2, 'e81': 2, 'e98': 2}, {'e2': 1, 'e15': 2, 'e24': 1, 'e27': 2, 'e44': 2, 'e81': 2, 'e98': 2}, {'e3': 2, 'e19': 2, 'e24': 2, 'e27': 2, 'e43': 2, 'e57': 2, 'e80': 2, 'e81': 2, 'e97': 2, 'e106': 2}, {'e2': 1, 'e15': 2, 'e24': 2, 'e27': 2, 'e42': 2, 'e56': 2, 'e75': 2, 'e84': 2, 'e89': 2, 'e92': 2, 'e107': 2}, {'e2': 2, 'e15': 2, 'e24': 2, 'e26': 2, 'e31': 2, 'e42': 2, 'e56': 2, 'e75': 2, 'e84': 2, 'e89': 2, 'e92': 2, 'e107': 2}, {'e1': 2, 'e5': 2, 'e13': 2, 'e31': 2, 'e44': 2, 'e81': 2, 'e97': 2, 'e106': 2}, {'e3': 2, 'e19': 2, 'e24': 2, 'e27': 2, 'e42': 2, 'e56': 2, 'e75': 2, 'e83': 2, 'e85': 2, 'e88': 2, 'e107': 2}, {'e3': 2, 'e19': 2, 'e24': 2, 'e26': 2, 'e28': 2, 'e30': 2, 'e42': 2, 'e56': 2, 'e75': 2, 'e84': 2, 'e89': 2, 'e92': 2, 'e107': 2}, {'e3': 2, 'e19': 2, 'e24': 2, 'e27': 2, 'e43': 1, 'e57': 2, 'e80': 2, 'e81': 2, 'e98': 2}, {'e2': 2, 'e15': 2, 'e24': 2, 'e26': 2, 'e28': 2, 'e30': 2, 'e44': 2, 'e81': 2, 'e98': 2}, {'e3': 2, 'e19': 2, 'e24': 2, 'e27': 2, 'e43': 2, 'e57': 1, 'e80': 2, 'e81': 2, 'e98': 2}, {'e3': 2, 'e19': 1, 'e24': 2, 'e27': 2, 'e44': 2, 'e81': 2, 'e98': 2}, {'e1': 1, 'e5': 2, 'e13': 2, 'e31': 2, 'e44': 2, 'e81': 2, 'e98': 2}, {'e1': 2, 'e5': 2, 'e13': 2, 'e31': 2, 'e43': 2, 'e57': 2, 'e80': 2, 'e81': 2, 'e98': 2}, {'e2': 2, 'e15': 2, 'e24': 2, 'e27': 2, 'e44': 2, 'e78': 2, 'e79': 2, 'e98': 2}, {'e3': 2, 'e19': 2, 'e24': 2, 'e27': 1, 'e44': 2, 'e81': 2, 'e98': 2}, {'e3': 2, 'e19': 2, 'e24': 2, 'e27': 2, 'e44': 2, 'e81': 2, 'e98': 1}, {'e3': 2, 'e19': 2, 'e24': 2, 'e26': 2, 'e31': 2, 'e44': 2, 'e78': 2, 'e79': 2, 'e98': 2}, {'e3': 2, 'e19': 2, 'e24': 2, 'e27': 2, 'e44': 2, 'e78': 1, 'e79': 2, 'e98': 2}, {'e2': 2, 'e15': 2, 'e24': 2, 'e27': 2, 'e44': 2, 'e78': 2, 'e76': 2, 'e77': 2, 'e84': 2, 'e89': 2, 'e92': 2, 'e107': 2}, {'e2': 2, 'e15': 2, 'e24': 1, 'e27': 2, 'e42': 2, 'e56': 2, 'e75': 2, 'e84': 2, 'e89': 2, 'e92': 2, 'e107': 2}]\n",
      "Failure rules: []\n"
     ]
    }
   ],
   "source": [
    "print(f\"Survival rules: {rules['s']}\")\n",
    "print(f\"Failure rules: {rules['f']}\")\n"
   ]
  }
 ],
 "metadata": {
  "kernelspec": {
   "display_name": "bns",
   "language": "python",
   "name": "python3"
  },
  "language_info": {
   "codemirror_mode": {
    "name": "ipython",
    "version": 3
   },
   "file_extension": ".py",
   "mimetype": "text/x-python",
   "name": "python",
   "nbconvert_exporter": "python",
   "pygments_lexer": "ipython3",
   "version": "3.11.0"
  }
 },
 "nbformat": 4,
 "nbformat_minor": 2
}
